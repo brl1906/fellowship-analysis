{
 "cells": [
  {
   "cell_type": "markdown",
   "metadata": {},
   "source": [
    "## questions for analysis for fellowship use "
   ]
  },
  {
   "cell_type": "markdown",
   "metadata": {},
   "source": [
    "1. distribution of use across agencies (all time) donut chart.\n",
    "2. changes in total uses over time (all agencies) line chart\n",
    "3. changes in total uses over time by agency multi trace line chart\n",
    "4. total cost per year (estimated cost column) if average total fellow cost is $60k\n",
    "5. changes in total spent per year by agency -- stacked bar chart with agency total fellow cost for that year as chunks\n",
    "6. breakdown of costs for a felow -- donut chart showing what components make up fellow cost  (we want to decrease some fees like Strong City  * also, if other fellowship providers like Fuse Corps engage the City we could lock them into similar rates)."
   ]
  },
  {
   "cell_type": "code",
   "execution_count": null,
   "metadata": {},
   "outputs": [],
   "source": []
  },
  {
   "cell_type": "code",
   "execution_count": null,
   "metadata": {},
   "outputs": [],
   "source": []
  }
 ],
 "metadata": {
  "kernelspec": {
   "display_name": "Python 3",
   "language": "python",
   "name": "python3"
  },
  "language_info": {
   "codemirror_mode": {
    "name": "ipython",
    "version": 3
   },
   "file_extension": ".py",
   "mimetype": "text/x-python",
   "name": "python",
   "nbconvert_exporter": "python",
   "pygments_lexer": "ipython3",
   "version": "3.7.3"
  }
 },
 "nbformat": 4,
 "nbformat_minor": 2
}
