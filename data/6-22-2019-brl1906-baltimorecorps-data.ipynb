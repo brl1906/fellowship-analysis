{
 "cells": [
  {
   "cell_type": "code",
   "execution_count": 119,
   "metadata": {},
   "outputs": [],
   "source": [
    "import numpy as np\n",
    "import pandas as pd"
   ]
  },
  {
   "cell_type": "code",
   "execution_count": 112,
   "metadata": {},
   "outputs": [],
   "source": [
    "agency = [\"Mayor's Office\",\"Mayor's Office\",'MOED','MOED','BCHD','BCHD','BCHD','BCHD',\n",
    "          'BCHD','BCHD','BCHD','BCHD','BCHD','BCHD','BCHD','MOED','BPD',\n",
    "          'City Hall: Z.Cohen','BCPS','Human Services','BCHD','BCHD','BCHD','BCHD',\n",
    "          'BCHD','BCHD','BCHD','BCPS','City Hall: Z.Cohen','City Hall: Z.Cohen','DGS',\n",
    "          'BCF','MOCJ','MOED','MOED','MOED','MOED','DGS','DGS','DGS','BBMR','BBMR',\n",
    "          'BCHD','BCHD','BCHD','BCHD','BCHD','MOCJ','MIMA','City Hall: Z.Cohen','BCF']\n",
    "\n",
    "funding = ['Contractual','Contractual','BoE','BoE','BoE','BoE','BoE','BoE','BoE',\n",
    "           'BoE','BoE','BoE','BoE','BoE','BoE','BoE','BoE','Grant Funded','Grant Funded',\n",
    "           'BoE','BoE','BoE','BoE','BoE','BoE','BoE','BoE','Grant Funded','Grant Funded',\n",
    "           'Grant Funded','BoE','Grant Funded','BoE','Grant Funded','Grant Funded',\n",
    "           'Grant Funded','Grant Funded','BoE','BoE','BoE','BoE','BoE','BoE','BoE','BoE',\n",
    "           'BoE','BoE','Family Leauge','BoE','Grant Funded','BCF' ]\n",
    "\n",
    "year = [2014,2014,2015,2015,2015,2015,2015,2015,2015,2015,2016,2016,2016,2016,2016,2016,\n",
    "        2016,2016,2016,2017,2017,2017,2017,2017,2017,2017,2017,2017,2017,2017,2017,2017,\n",
    "        2017,2017,2017,2018,2018,2018,2018,2018,2018,2018,2018,2018,2018,2018,2018,2018,\n",
    "        2018,2018,2018]"
   ]
  },
  {
   "cell_type": "code",
   "execution_count": 111,
   "metadata": {},
   "outputs": [],
   "source": [
    "datetime_year = pd.to_datetime(year, format='%Y')\n",
    "dframe = pd.DataFrame(agency, index=datetime_year, columns=['agency'])\n",
    "dframe['funding'] = funding\n",
    "dframe['avg_stipend'] = 44000\n",
    "dframe['fringe'] = dframe['avg_stipend'] * .22\n",
    "dframe['unemployment'] = 1000\n",
    "dframe['BaltCorps_fee'] = 2000\n",
    "dframe['StrongCity_fee'] = 2000\n",
    "dframe['fellow_cost'] = (\n",
    "    dframe['avg_stipend'] + dframe['fringe'] + dframe['unemployment'] + \n",
    "    dframe['BaltCorps_fee'] + dframe['StrongCity_fee'])"
   ]
  },
  {
   "cell_type": "code",
   "execution_count": 117,
   "metadata": {},
   "outputs": [],
   "source": []
  },
  {
   "cell_type": "code",
   "execution_count": null,
   "metadata": {},
   "outputs": [],
   "source": []
  },
  {
   "cell_type": "code",
   "execution_count": null,
   "metadata": {},
   "outputs": [],
   "source": []
  },
  {
   "cell_type": "code",
   "execution_count": 61,
   "metadata": {},
   "outputs": [],
   "source": []
  },
  {
   "cell_type": "code",
   "execution_count": null,
   "metadata": {},
   "outputs": [],
   "source": []
  },
  {
   "cell_type": "code",
   "execution_count": null,
   "metadata": {},
   "outputs": [],
   "source": []
  }
 ],
 "metadata": {
  "kernelspec": {
   "display_name": "Python 3",
   "language": "python",
   "name": "python3"
  },
  "language_info": {
   "codemirror_mode": {
    "name": "ipython",
    "version": 3
   },
   "file_extension": ".py",
   "mimetype": "text/x-python",
   "name": "python",
   "nbconvert_exporter": "python",
   "pygments_lexer": "ipython3",
   "version": "3.7.3"
  }
 },
 "nbformat": 4,
 "nbformat_minor": 2
}
