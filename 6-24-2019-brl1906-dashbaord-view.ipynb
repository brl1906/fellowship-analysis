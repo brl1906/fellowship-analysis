{
 "cells": [
  {
   "cell_type": "code",
   "execution_count": null,
   "metadata": {},
   "outputs": [],
   "source": [
    "import data\n",
    "import importlib\n",
    "importlib.reload(data)"
   ]
  },
  {
   "cell_type": "code",
   "execution_count": 3,
   "metadata": {},
   "outputs": [
    {
     "data": {
      "text/html": [
       "        <script type=\"text/javascript\">\n",
       "        window.PlotlyConfig = {MathJaxConfig: 'local'};\n",
       "        if (window.MathJax) {MathJax.Hub.Config({SVG: {font: \"STIX-Web\"}});}\n",
       "        if (typeof require !== 'undefined') {\n",
       "        require.undef(\"plotly\");\n",
       "        requirejs.config({\n",
       "            paths: {\n",
       "                'plotly': ['https://cdn.plot.ly/plotly-latest.min']\n",
       "            }\n",
       "        });\n",
       "        require(['plotly'], function(Plotly) {\n",
       "            window._Plotly = Plotly;\n",
       "        });\n",
       "        }\n",
       "        </script>\n",
       "        "
      ]
     },
     "metadata": {},
     "output_type": "display_data"
    }
   ],
   "source": [
    "from data import dframe \n",
    "\n",
    "import dash\n",
    "import dash_core_components as dcc\n",
    "import dash_html_components as html\n",
    "import jupyterlab_dash\n",
    "\n",
    "import pandas as pd\n",
    "import plotly.plotly as py\n",
    "import plotly.offline as pyo\n",
    "import  plotly.graph_objs as go\n",
    "\n",
    "pyo.init_notebook_mode(connected=True)"
   ]
  },
  {
   "cell_type": "code",
   "execution_count": 4,
   "metadata": {},
   "outputs": [],
   "source": [
    "viewer = jupyterlab_dash.AppViewer()"
   ]
  },
  {
   "cell_type": "code",
   "execution_count": 5,
   "metadata": {},
   "outputs": [],
   "source": [
    "app = dash.Dash('fellowship-analysis')\n",
    "app.css.append_css({'external_url': 'https://cdn.rawgit.com/plotly/dash-app-stylesheets/2d266c578d2a6e8850ebce48fdb52759b2aef506/stylesheet-oil-and-gas.css'})  \n"
   ]
  },
  {
   "cell_type": "code",
   "execution_count": 15,
   "metadata": {},
   "outputs": [],
   "source": [
    "viewer.show(app)"
   ]
  },
  {
   "cell_type": "code",
   "execution_count": 14,
   "metadata": {},
   "outputs": [],
   "source": [
    "app.layout = html.Div([\n",
    "    \n",
    "    # row 1\n",
    "    html.Div([\n",
    "        html.Div(\n",
    "        [dcc.Graph(\n",
    "            id = 'chart1-bar-linechart',\n",
    "            config = {} # for configuration of plotly charts,  \n",
    "        )],\n",
    "            \n",
    "        className = 'seven columns',\n",
    "        style = {'margin-top': '20'}),\n",
    "    \n",
    "    html.Div(\n",
    "        [dcc.Graph(\n",
    "            id = 'chart2-single-donut',\n",
    "            config = {} # for configuration of plotly charts,  \n",
    "        )], \n",
    "        \n",
    "        className = 'five columns',\n",
    "        style = {'margin-top': '20'}),\n",
    "            ]),\n",
    "    \n",
    "    # row 2\n",
    "    html.Div([\n",
    "        html.Div(\n",
    "        [dcc.Graph(\n",
    "            id = 'chart3-double-donut',\n",
    "            config = {} # for configuration of plotly charts,  \n",
    "        )], \n",
    "            \n",
    "        className = 'five columns',\n",
    "        style = {'margin-top': '20'}),\n",
    "    \n",
    "    html.Div(\n",
    "        [dcc.Graph(\n",
    "            id = 'chart4-stacked-barchart',\n",
    "            config = {} # for configuration of plotly charts,  \n",
    "        )], \n",
    "        \n",
    "        className = 'seven columns',\n",
    "        style = {'margin-top': '20'}),\n",
    "            ]),\n",
    "    \n",
    "])"
   ]
  },
  {
   "cell_type": "code",
   "execution_count": null,
   "metadata": {},
   "outputs": [],
   "source": []
  },
  {
   "cell_type": "code",
   "execution_count": null,
   "metadata": {},
   "outputs": [],
   "source": []
  },
  {
   "cell_type": "code",
   "execution_count": null,
   "metadata": {},
   "outputs": [],
   "source": []
  },
  {
   "cell_type": "code",
   "execution_count": null,
   "metadata": {},
   "outputs": [],
   "source": []
  },
  {
   "cell_type": "code",
   "execution_count": null,
   "metadata": {},
   "outputs": [],
   "source": []
  }
 ],
 "metadata": {
  "kernelspec": {
   "display_name": "Python 3",
   "language": "python",
   "name": "python3"
  },
  "language_info": {
   "codemirror_mode": {
    "name": "ipython",
    "version": 3
   },
   "file_extension": ".py",
   "mimetype": "text/x-python",
   "name": "python",
   "nbconvert_exporter": "python",
   "pygments_lexer": "ipython3",
   "version": "3.7.3"
  }
 },
 "nbformat": 4,
 "nbformat_minor": 2
}
