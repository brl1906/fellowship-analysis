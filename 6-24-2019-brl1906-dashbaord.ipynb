{
 "cells": [
  {
   "cell_type": "code",
   "execution_count": 1,
   "metadata": {},
   "outputs": [],
   "source": [
    "import dash\n",
    "import dash_core_components as dcc\n",
    "import dash_html_components as html\n",
    "from IPython.display import Image, IFrame\n",
    "import jupyterlab_dash\n",
    "# custom modules\n",
    "from data import dframe \n",
    "from graphs import chart1,chart2,chart3,chart4"
   ]
  },
  {
   "cell_type": "code",
   "execution_count": 2,
   "metadata": {},
   "outputs": [],
   "source": [
    "viewer = jupyterlab_dash.AppViewer()"
   ]
  },
  {
   "cell_type": "code",
   "execution_count": 3,
   "metadata": {},
   "outputs": [],
   "source": [
    "app = dash.Dash('fellowship-analysis')\n",
    "app.css.append_css({'external_url': 'https://cdn.rawgit.com/plotly/dash-app-stylesheets/2d266c578d2a6e8850ebce48fdb52759b2aef506/stylesheet-oil-and-gas.css'})  "
   ]
  },
  {
   "cell_type": "code",
   "execution_count": 4,
   "metadata": {},
   "outputs": [],
   "source": [
    "app.layout = html.Div([\n",
    "    \n",
    "    # row 1\n",
    "    html.Div([\n",
    "        html.Div(\n",
    "        [dcc.Graph(\n",
    "            id = 'chart1-bar-linechart',\n",
    "            figure = chart1,\n",
    "            config = {\n",
    "                'displaylogo':False,\n",
    "                'showLink':False,\n",
    "                'displayModeBar':'hover',\n",
    "                'modeBarButtons':[['toImage']]\n",
    "                       }   \n",
    "        )],\n",
    "            \n",
    "        className = 'six columns',\n",
    "        style = {'margin-top': '20'}),\n",
    "    \n",
    "    html.Div(\n",
    "        [dcc.Graph(\n",
    "            id = 'chart2-single-donut',\n",
    "            figure = chart2,\n",
    "            config = {\n",
    "                'displaylogo':False,\n",
    "                'showLink':False,\n",
    "                'displayModeBar':'hover',\n",
    "                'modeBarButtons':[['toImage']]\n",
    "                       }  \n",
    "        )], \n",
    "        \n",
    "        className = 'six columns',\n",
    "        style = {'margin-top': '20'}),\n",
    "            ]),\n",
    "    \n",
    "    # row 2\n",
    "    html.Div([\n",
    "        html.Div(\n",
    "        [dcc.Graph(\n",
    "            id = 'chart3-double-donut',\n",
    "            figure = chart3,\n",
    "            config = {\n",
    "                'displaylogo':False,\n",
    "                'showLink':False,\n",
    "                'displayModeBar':'hover',\n",
    "                'modeBarButtons':[['toImage']]\n",
    "                       }  \n",
    "        )], \n",
    "            \n",
    "        className = 'six columns',\n",
    "        style = {'margin-top': '20'}),\n",
    "    \n",
    "    html.Div(\n",
    "        [dcc.Graph(\n",
    "            id = 'chart4-stacked-barchart',\n",
    "            figure = chart4,\n",
    "            config = {\n",
    "                'displaylogo':False,\n",
    "                'showLink':False,\n",
    "                'displayModeBar':'hover',\n",
    "                'modeBarButtons':[['toImage']]\n",
    "                       } \n",
    "        )], \n",
    "        \n",
    "        className = 'six columns',\n",
    "        style = {'margin-top': '20'}),\n",
    "            ]),\n",
    "    \n",
    "])\n",
    "\n"
   ]
  },
  {
   "cell_type": "code",
   "execution_count": 13,
   "metadata": {},
   "outputs": [],
   "source": [
    "viewer.show(app)"
   ]
  },
  {
   "cell_type": "code",
   "execution_count": null,
   "metadata": {},
   "outputs": [],
   "source": []
  }
 ],
 "metadata": {
  "kernelspec": {
   "display_name": "Python 3",
   "language": "python",
   "name": "python3"
  },
  "language_info": {
   "codemirror_mode": {
    "name": "ipython",
    "version": 3
   },
   "file_extension": ".py",
   "mimetype": "text/x-python",
   "name": "python",
   "nbconvert_exporter": "python",
   "pygments_lexer": "ipython3",
   "version": "3.7.3"
  }
 },
 "nbformat": 4,
 "nbformat_minor": 2
}
